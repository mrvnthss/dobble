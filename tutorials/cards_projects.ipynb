{
 "cells": [
  {
   "cell_type": "markdown",
   "id": "5a958bc6-efad-4db7-b695-98f74d4bb4c5",
   "metadata": {},
   "source": [
    "# Projects with playing cards\n",
    "\n",
    "In this notebook, we look at some fun mini-projects one can implement using the **dobble** package's `Card` class.\n",
    "\n",
    "Before running this notebook, make sure that you have installed the **dobble** package in your virtual environment.  \n",
    "We start by performing all necessary imports."
   ]
  },
  {
   "cell_type": "code",
   "execution_count": 1,
   "id": "initial_id",
   "metadata": {
    "ExecuteTime": {
     "end_time": "2024-06-06T12:15:04.075015Z",
     "start_time": "2024-06-06T12:15:03.856229Z"
    }
   },
   "outputs": [],
   "source": [
    "from pathlib import Path\n",
    "\n",
    "import numpy as np\n",
    "from PIL import Image"
   ]
  },
  {
   "cell_type": "markdown",
   "id": "f0e007da-99c1-41c9-96e1-b3a6bab958cb",
   "metadata": {},
   "source": [
    "## Playing card GIFs\n",
    "\n",
    "While *Dobble* cards are awesome by themselves, we can make them even more enjoyable by adding some animations to them. To do so,  \n",
    "we can combine multiple images of the same or different cards and create fun GIFs out of them.\n",
    "\n",
    "\n",
    "### Creating a README GIF\n",
    "\n",
    "We start by creating a GIF to use in the project's README that showcases some of the cards one can create using the **dobble**  \n",
    "package. First, we write a simple function that horizontally combines two images into a single image. That way, we can later  \n",
    "display two cards next to each other."
   ]
  },
  {
   "cell_type": "code",
   "execution_count": 2,
   "id": "3bfa67ee-546c-4cc2-bfde-67274a2e94ee",
   "metadata": {},
   "outputs": [],
   "source": [
    "def create_tile_img(\n",
    "    img1: Image.Image,\n",
    "    img2: Image.Image,\n",
    "    padding: int\n",
    ") -> Image.Image:\n",
    "    \"\"\"Horizontally combine two images into a single image.\n",
    "\n",
    "    Args:\n",
    "        img1: The image to be placed on the left side.\n",
    "        img2: The image to be placed on the right side.\n",
    "        padding: The padding between the two images in pixels.\n",
    "\n",
    "    Returns:\n",
    "        The two images combined into a single image with the specified\n",
    "        padding between the two individual images.\n",
    "\n",
    "    Raises:\n",
    "        ValueError: If one (or both) of the images are not square images\n",
    "          or the two images are not identical in size.\n",
    "    \"\"\"\n",
    "\n",
    "    if not (\n",
    "        img1.size[0] == img1.size[1]\n",
    "        and img2.size[0] == img2.size[1]\n",
    "        and img1.size[0] == img2.size[0]\n",
    "    ):\n",
    "        raise ValueError(\"Both images must be square images of the same size!\")\n",
    "    \n",
    "    img_size = img1.size[0]\n",
    "    tile_img = Image.new(\"RGBA\", (2 * img_size + padding, img_size))\n",
    "    tile_img.paste(img1, (0, 0))\n",
    "    tile_img.paste(img2, (img_size + padding, 0))\n",
    "\n",
    "    return tile_img\n"
   ]
  },
  {
   "cell_type": "markdown",
   "id": "4dfab3f2-cbee-4bed-9656-f5d16221be76",
   "metadata": {},
   "source": [
    "Next, we load the card images that we created in the [cards_examples.ipynb](cards_examples.ipynb) notebook, and we resize them  \n",
    "to be 512x512 pixels large."
   ]
  },
  {
   "cell_type": "code",
   "execution_count": 3,
   "id": "4a08da46-e1d9-43c3-9dd6-a463b742e996",
   "metadata": {},
   "outputs": [],
   "source": [
    "# Path to directory storing card images\n",
    "IMG_DIR = Path(\"../imgs/cards\")\n",
    "\n",
    "# Load all 6 card images\n",
    "activities_img = Image.open(IMG_DIR / \"activities_cci_5.png\").resize((512, 512))\n",
    "animals_img = Image.open(IMG_DIR / \"animals_ccic_7.png\").resize((512, 512))\n",
    "brands_img = Image.open(IMG_DIR / \"brands_ccis_5.png\").resize((512, 512))\n",
    "coffee_img = Image.open(IMG_DIR / \"coffee_ccir_8.png\").resize((512, 512))\n",
    "fruits_img = Image.open(IMG_DIR / \"fruits_ccib_6.png\").resize((512, 512))\n",
    "mixed_img = Image.open(IMG_DIR / \"mixed_ccib_6.png\").resize((512, 512))"
   ]
  },
  {
   "cell_type": "markdown",
   "id": "13b34c6d-ee1b-4652-a16b-09491a3789c9",
   "metadata": {},
   "source": [
    "Next, we arrange the images in pairs and then create tile images using the `create_tile_img` function."
   ]
  },
  {
   "cell_type": "code",
   "execution_count": 4,
   "id": "5129c263-31f8-47b3-87f4-a7c8c1d743b8",
   "metadata": {},
   "outputs": [],
   "source": [
    "# Arrange images in pairs\n",
    "img_pairs = [\n",
    "    (mixed_img, coffee_img),\n",
    "    (fruits_img, activities_img),\n",
    "    (brands_img, animals_img)\n",
    "]\n",
    "\n",
    "# Create tile images\n",
    "tile_imgs = []\n",
    "for img_pair in img_pairs:\n",
    "    tile_imgs.append(create_tile_img(img_pair[0], img_pair[1], 50))"
   ]
  },
  {
   "cell_type": "markdown",
   "id": "dd84c446-c139-45f2-9373-6729204c1fda",
   "metadata": {},
   "source": [
    "Next, we write a function that takes a list of PIL images, and turns them into a GIF."
   ]
  },
  {
   "cell_type": "code",
   "execution_count": 5,
   "id": "a6d857f4-20be-4e2c-abf8-02737c129b41",
   "metadata": {},
   "outputs": [],
   "source": [
    "def create_gif_from_imgs(\n",
    "    imgs: list[Image.Image],\n",
    "    fpath: str | Path,\n",
    "    frame_duration: int = 1000,\n",
    "    fading_frames: int = 10,\n",
    "    fading_delay: int = 100\n",
    ") -> None:\n",
    "    \"\"\"Create a GIF from a list of images.\n",
    "\n",
    "    Args:\n",
    "        imgs: The list of images to turn into a GIF.\n",
    "        fpath: The path used to save the GIF.\n",
    "        frame_duration: The time (in ms) to display each individual\n",
    "          image.\n",
    "        fading_frames: The number of frames used to fade between\n",
    "          consecutive images.\n",
    "        fading_delay: The delay (in ms) between the fading frames.\n",
    "    \"\"\"\n",
    "\n",
    "    num_imgs = len(imgs)\n",
    "    alphas = np.linspace(0, 1, num=fading_frames, endpoint=False)\n",
    "\n",
    "    # Create frames of GIF\n",
    "    gif_imgs = []\n",
    "    for pair in range(0, num_imgs):\n",
    "        for idx, alpha in enumerate(alphas):\n",
    "            blended_img = Image.blend(imgs[pair], imgs[(pair + 1) % num_imgs], alpha)\n",
    "            blended_img.info[\"duration\"] = frame_duration if idx == 0 else fading_delay\n",
    "            gif_imgs.append(blended_img)\n",
    "\n",
    "    # Save GIF\n",
    "    gif_imgs[0].save(\n",
    "        str(fpath),\n",
    "        format='GIF',\n",
    "        save_all=True,\n",
    "        append_images=gif_imgs[1:],\n",
    "        loop=0\n",
    "    )\n"
   ]
  },
  {
   "cell_type": "markdown",
   "id": "309cb397-237c-4da5-9e04-d717c00aa810",
   "metadata": {},
   "source": [
    "We apply this function right away to create our GIF to use in this project's README."
   ]
  },
  {
   "cell_type": "code",
   "execution_count": 6,
   "id": "198c1eee-4fa2-46eb-8d4d-746b632dea28",
   "metadata": {},
   "outputs": [],
   "source": [
    "create_gif_from_imgs(\n",
    "    tile_imgs,\n",
    "    IMG_DIR / \"card_examples.gif\"\n",
    ")"
   ]
  },
  {
   "cell_type": "markdown",
   "id": "d2214750-10a2-4f65-b190-a0dd9a9b9608",
   "metadata": {},
   "source": [
    "And here is the result:\n",
    "\n",
    "<br>\n",
    "<img src=\"../imgs/cards/card_examples.gif\" width=\"800\">"
   ]
  }
 ],
 "metadata": {
  "kernelspec": {
   "display_name": "Python 3 (ipykernel)",
   "language": "python",
   "name": "python3"
  },
  "language_info": {
   "codemirror_mode": {
    "name": "ipython",
    "version": 3
   },
   "file_extension": ".py",
   "mimetype": "text/x-python",
   "name": "python",
   "nbconvert_exporter": "python",
   "pygments_lexer": "ipython3",
   "version": "3.12.3"
  }
 },
 "nbformat": 4,
 "nbformat_minor": 5
}
